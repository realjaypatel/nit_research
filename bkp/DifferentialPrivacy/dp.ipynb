{
 "cells": [
  {
   "cell_type": "code",
   "execution_count": 1,
   "metadata": {},
   "outputs": [
    {
     "name": "stdout",
     "output_type": "stream",
     "text": [
      "Accuracy: 0.6\n"
     ]
    }
   ],
   "source": [
    "import numpy as np\n",
    "from sklearn import datasets\n",
    "from sklearn.model_selection import train_test_split\n",
    "from sklearn.preprocessing import StandardScaler\n",
    "from sklearn.svm import SVC\n",
    "from sklearn.metrics import accuracy_score\n",
    "from scipy import stats\n",
    "\n",
    "# Load dataset\n",
    "iris = datasets.load_iris()\n",
    "X = iris.data\n",
    "y = iris.target\n",
    "\n",
    "# Split dataset into training and testing sets\n",
    "X_train, X_test, y_train, y_test = train_test_split(X, y, test_size=0.2, random_state=42)\n",
    "\n",
    "# Scale features\n",
    "scaler = StandardScaler().fit(X_train)\n",
    "X_train_scaled = scaler.transform(X_train)\n",
    "X_test_scaled = scaler.transform(X_test)\n",
    "\n",
    "# Perturb training data for differential privacy\n",
    "epsilon = 0.1  # Privacy budget\n",
    "sensitivity = 1.0  # Sensitivity of the SVM decision function\n",
    "n_train = X_train_scaled.shape[0]\n",
    "n_features = X_train_scaled.shape[1]\n",
    "\n",
    "# Calculate scale parameter for Laplace distribution\n",
    "scale = sensitivity / epsilon\n",
    "\n",
    "# Perturb feature vectors\n",
    "X_train_perturbed = X_train_scaled + np.random.laplace(scale=scale, size=X_train_scaled.shape)\n",
    "\n",
    "# Train SVM model with perturbed data\n",
    "svm_model = SVC(C=1.0, kernel='rbf', gamma='scale')\n",
    "svm_model.fit(X_train_perturbed, y_train)\n",
    "\n",
    "# Evaluate the model on the test set\n",
    "y_pred = svm_model.predict(X_test_scaled)\n",
    "accuracy = accuracy_score(y_test, y_pred)\n",
    "print(\"Accuracy:\", accuracy)\n"
   ]
  }
 ],
 "metadata": {
  "kernelspec": {
   "display_name": "base",
   "language": "python",
   "name": "python3"
  },
  "language_info": {
   "codemirror_mode": {
    "name": "ipython",
    "version": 3
   },
   "file_extension": ".py",
   "mimetype": "text/x-python",
   "name": "python",
   "nbconvert_exporter": "python",
   "pygments_lexer": "ipython3",
   "version": "3.11.7"
  }
 },
 "nbformat": 4,
 "nbformat_minor": 2
}
